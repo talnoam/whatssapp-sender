{
 "cells": [
  {
   "cell_type": "code",
   "execution_count": 1,
   "metadata": {},
   "outputs": [],
   "source": [
    "from selenium import webdriver\n",
    "from selenium.webdriver.support.ui import WebDriverWait\n",
    "from selenium.webdriver.support import expected_conditions as EC\n",
    "from selenium.webdriver.common.keys import Keys\n",
    "from selenium.webdriver.common.by import By\n",
    "from selenium.common.exceptions import NoSuchElementException \n",
    "import time\n",
    "from tqdm import trange, tqdm\n",
    "import pandas as pd"
   ]
  },
  {
   "cell_type": "code",
   "execution_count": 2,
   "metadata": {},
   "outputs": [],
   "source": [
    "def is_present_xpath(text):    \n",
    "    try:\n",
    "        driver.find_element_by_xpath(\"//*[text()='\" + text + \"']\")\n",
    "    except NoSuchElementException:\n",
    "        return False\n",
    "    \n",
    "    return True\n",
    "\n",
    "\n",
    "def is_present_id(text):    \n",
    "    try:\n",
    "        driver.find_element_by_id(text)\n",
    "    except NoSuchElementException:\n",
    "        return False\n",
    "    \n",
    "    return True\n",
    "\n",
    "\n",
    "def is_present_class_name(text):    \n",
    "    try:\n",
    "        driver.find_element_by_class_name(text)\n",
    "    except NoSuchElementException:\n",
    "        return False\n",
    "    \n",
    "    return True"
   ]
  },
  {
   "cell_type": "code",
   "execution_count": 6,
   "metadata": {},
   "outputs": [],
   "source": [
    "# not in use\n",
    "def check_if_loading():\n",
    "    t0= time.clock()\n",
    "    while is_present_xpath('End-to-end encrypted'):\n",
    "        t1 = time.clock() - t0\n",
    "        if t1 > 10:\n",
    "            driver.refresh()\n",
    "        else:\n",
    "            continue"
   ]
  },
  {
   "cell_type": "code",
   "execution_count": 7,
   "metadata": {},
   "outputs": [],
   "source": [
    "df = pd.read_excel(\"./contacts.ods\", engine=\"odf\")\n",
    "phone = df['phone']\n",
    "phone_country = '972'\n",
    "family_name = df['last name']\n",
    "first_name = df['first name']\n",
    "link = 'http://yc.ms/gdi/KInvcU'\n",
    "message = 'מתרגשים להזמין אתכם לחתונה שלנו שתתקיים במתחם פתוח ובכפוף לתו הירוק.'"
   ]
  },
  {
   "cell_type": "code",
   "execution_count": 63,
   "metadata": {},
   "outputs": [],
   "source": [
    "driver = webdriver.Chrome(executable_path='/usr/lib/chromium-browser/chromedriver')\n",
    "driver.get(\"https://web.whatsapp.com/\")\n",
    "driver.maximize_window()\n",
    "\n",
    "WebDriverWait(driver, 600).until(lambda driver: driver.find_element_by_xpath(\"//*[text()='To use WhatsApp on your computer:']\"))\n",
    "while is_present_xpath(\"To use WhatsApp on your computer:\"):\n",
    "    if is_present_xpath(\"Click to reload QR code\"):\n",
    "        qr = WebDriverWait(driver, 10).until(lambda driver: driver.find_element_by_xpath(\"//*[text()='Click to reload QR code']\"))\n",
    "        qr.click()\n",
    "    if is_present_xpath(\"Keep your phone connected\"):\n",
    "        break\n",
    "    else:\n",
    "        continue\n",
    "driver.get(\"https://api.whatsapp.com/send?phone=\" + phone_country + phone[0] + \"&lang=he\")"
   ]
  },
  {
   "cell_type": "code",
   "execution_count": 57,
   "metadata": {},
   "outputs": [
    {
     "name": "stderr",
     "output_type": "stream",
     "text": [
      "100%|██████████| 25/25 [06:21<00:00, 15.25s/it]\n"
     ]
    }
   ],
   "source": [
    "sent = pd.DataFrame(columns = [\"first name\", \"last name\", \"phone\"])\n",
    "invalid_phone = pd.DataFrame(columns = [\"first name\", \"last name\", \"phone\"])\n",
    "for i in tqdm(range(len(df))):\n",
    "    bad = False\n",
    "    driver.get(\"https://api.whatsapp.com/send?phone=\" + phone_country + phone[i] + \"&lang=he\")\n",
    "    wait = WebDriverWait(driver, 600).until(lambda driver: driver.find_element_by_id(\"action-button\"))\n",
    "    wait.click()\n",
    "    time.sleep(1)\n",
    "    wait2 = WebDriverWait(driver, 600).until(lambda driver: driver.find_element_by_xpath(\"//*[text()='השתמשו ב-WhatsApp Web']\"))\n",
    "    wait2.click()\n",
    "    while not is_present_class_name(\"_1UWac._1LbR4\"):\n",
    "        if is_present_xpath(\"Phone number shared via url is invalid.\"):\n",
    "            sent = sent.append(df.iloc[i], ignore_index=True)\n",
    "            WebDriverWait(driver, 600).until(lambda driver: driver.find_element_by_xpath(\"//*[text()='OK']\")).click()\n",
    "            bad = True\n",
    "            break\n",
    "        else:\n",
    "            continue\n",
    "    if bad:\n",
    "        print('Caught invalid number')\n",
    "        continue\n",
    "    else:\n",
    "        wait3 = WebDriverWait(driver, 600).until(lambda driver: driver.find_element_by_class_name(\"_1UWac._1LbR4\"))\n",
    "        while driver.find_element_by_xpath(\"//*[text()='Type a message']\").is_displayed():\n",
    "            wait3.send_keys(Keys.CONTROL + \"A\")\n",
    "            wait3.send_keys(link)\n",
    "            time.sleep(2)\n",
    "        while not is_present_class_name('a-HbF'):\n",
    "            wait3.send_keys(Keys.CONTROL + \"A\")\n",
    "            wait3.send_keys(link)\n",
    "            time.sleep(2)\n",
    "        wait4 = WebDriverWait(driver, 600).until(lambda driver: driver.find_element_by_class_name(\"a-HbF\"))\n",
    "        wait4.click()\n",
    "        send = driver.find_element_by_class_name(\"_4sWnG\").click()\n",
    "        while driver.find_element_by_xpath(\"//*[text()='Type a message']\").is_displayed():\n",
    "            wait3.send_keys(Keys.CONTROL + \"A\")\n",
    "            wait3.send_keys(message)\n",
    "        send2 = driver.find_element_by_class_name(\"_4sWnG\").click()\n",
    "        time.sleep(2)\n",
    "        sent = sent.append(df.iloc[i], ignore_index=True)"
   ]
  }
 ],
 "metadata": {
  "kernelspec": {
   "display_name": "Python 3",
   "language": "python",
   "name": "python3"
  },
  "language_info": {
   "codemirror_mode": {
    "name": "ipython",
    "version": 3
   },
   "file_extension": ".py",
   "mimetype": "text/x-python",
   "name": "python",
   "nbconvert_exporter": "python",
   "pygments_lexer": "ipython3",
   "version": "3.7.3"
  }
 },
 "nbformat": 4,
 "nbformat_minor": 2
}
